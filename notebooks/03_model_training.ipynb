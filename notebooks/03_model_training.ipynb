{
 "cells": [
  {
   "cell_type": "markdown",
   "metadata": {},
   "source": [
    "### Import Libraries"
   ]
  },
  {
   "cell_type": "code",
   "execution_count": 1,
   "metadata": {},
   "outputs": [],
   "source": [
    "# Import necessary libraries\n",
    "import pandas as pd\n",
    "from sklearn.model_selection import train_test_split, GridSearchCV\n",
    "from sklearn.linear_model import LogisticRegression\n",
    "from sklearn.ensemble import RandomForestClassifier\n",
    "from sklearn.svm import SVC\n",
    "from sklearn.tree import DecisionTreeClassifier\n",
    "from sklearn.neighbors import KNeighborsClassifier\n",
    "from sklearn.metrics import classification_report, confusion_matrix\n",
    "import joblib\n"
   ]
  },
  {
   "cell_type": "markdown",
   "metadata": {},
   "source": [
    "### Load the Preprocessed Dataset"
   ]
  },
  {
   "cell_type": "code",
   "execution_count": 2,
   "metadata": {},
   "outputs": [
    {
     "name": "stdout",
     "output_type": "stream",
     "text": [
      "   SeniorCitizen    tenure  MonthlyCharges  TotalCharges  Charges_per_Month  \\\n",
      "0              0 -1.277445       -1.160323     -0.992611          -1.157889   \n",
      "1              0  0.066327       -0.259629     -0.172165          -0.305658   \n",
      "2              0 -1.236724       -0.362660     -0.958066          -0.355305   \n",
      "3              0  0.514251       -0.746535     -0.193672          -0.791614   \n",
      "4              0 -1.236724        0.197365     -0.938874           0.365282   \n",
      "\n",
      "   gender_Male  Partner_Yes  Dependents_Yes  PhoneService_Yes  \\\n",
      "0        False         True           False             False   \n",
      "1         True        False           False              True   \n",
      "2         True        False           False              True   \n",
      "3         True        False           False             False   \n",
      "4        False        False           False              True   \n",
      "\n",
      "   MultipleLines_No phone service  ...  Contract_One year  Contract_Two year  \\\n",
      "0                            True  ...              False              False   \n",
      "1                           False  ...               True              False   \n",
      "2                           False  ...              False              False   \n",
      "3                            True  ...               True              False   \n",
      "4                           False  ...              False              False   \n",
      "\n",
      "   PaperlessBilling_Yes  PaymentMethod_Credit card (automatic)  \\\n",
      "0                  True                                  False   \n",
      "1                 False                                  False   \n",
      "2                  True                                  False   \n",
      "3                 False                                  False   \n",
      "4                  True                                  False   \n",
      "\n",
      "   PaymentMethod_Electronic check  PaymentMethod_Mailed check  Churn_Yes  \\\n",
      "0                            True                       False      False   \n",
      "1                           False                        True      False   \n",
      "2                           False                        True       True   \n",
      "3                           False                       False      False   \n",
      "4                            True                       False       True   \n",
      "\n",
      "   Tenure_Charges  SeniorCitizen_MonthlyCharges  Tenure_Category  \n",
      "0        1.479139                          -0.0              NaN  \n",
      "1       -0.020273                          -0.0         0-1 Year  \n",
      "2        0.439414                          -0.0              NaN  \n",
      "3       -0.407089                          -0.0         0-1 Year  \n",
      "4       -0.451753                           0.0              NaN  \n",
      "\n",
      "[5 rows x 35 columns]\n",
      "<class 'pandas.core.frame.DataFrame'>\n",
      "RangeIndex: 7043 entries, 0 to 7042\n",
      "Data columns (total 35 columns):\n",
      " #   Column                                 Non-Null Count  Dtype  \n",
      "---  ------                                 --------------  -----  \n",
      " 0   SeniorCitizen                          7043 non-null   int64  \n",
      " 1   tenure                                 7043 non-null   float64\n",
      " 2   MonthlyCharges                         7043 non-null   float64\n",
      " 3   TotalCharges                           7043 non-null   float64\n",
      " 4   Charges_per_Month                      7043 non-null   float64\n",
      " 5   gender_Male                            7043 non-null   bool   \n",
      " 6   Partner_Yes                            7043 non-null   bool   \n",
      " 7   Dependents_Yes                         7043 non-null   bool   \n",
      " 8   PhoneService_Yes                       7043 non-null   bool   \n",
      " 9   MultipleLines_No phone service         7043 non-null   bool   \n",
      " 10  MultipleLines_Yes                      7043 non-null   bool   \n",
      " 11  InternetService_Fiber optic            7043 non-null   bool   \n",
      " 12  InternetService_No                     7043 non-null   bool   \n",
      " 13  OnlineSecurity_No internet service     7043 non-null   bool   \n",
      " 14  OnlineSecurity_Yes                     7043 non-null   bool   \n",
      " 15  OnlineBackup_No internet service       7043 non-null   bool   \n",
      " 16  OnlineBackup_Yes                       7043 non-null   bool   \n",
      " 17  DeviceProtection_No internet service   7043 non-null   bool   \n",
      " 18  DeviceProtection_Yes                   7043 non-null   bool   \n",
      " 19  TechSupport_No internet service        7043 non-null   bool   \n",
      " 20  TechSupport_Yes                        7043 non-null   bool   \n",
      " 21  StreamingTV_No internet service        7043 non-null   bool   \n",
      " 22  StreamingTV_Yes                        7043 non-null   bool   \n",
      " 23  StreamingMovies_No internet service    7043 non-null   bool   \n",
      " 24  StreamingMovies_Yes                    7043 non-null   bool   \n",
      " 25  Contract_One year                      7043 non-null   bool   \n",
      " 26  Contract_Two year                      7043 non-null   bool   \n",
      " 27  PaperlessBilling_Yes                   7043 non-null   bool   \n",
      " 28  PaymentMethod_Credit card (automatic)  7043 non-null   bool   \n",
      " 29  PaymentMethod_Electronic check         7043 non-null   bool   \n",
      " 30  PaymentMethod_Mailed check             7043 non-null   bool   \n",
      " 31  Churn_Yes                              7043 non-null   bool   \n",
      " 32  Tenure_Charges                         7043 non-null   float64\n",
      " 33  SeniorCitizen_MonthlyCharges           7043 non-null   float64\n",
      " 34  Tenure_Category                        3268 non-null   object \n",
      "dtypes: bool(27), float64(6), int64(1), object(1)\n",
      "memory usage: 626.0+ KB\n",
      "None\n"
     ]
    }
   ],
   "source": [
    "\n",
    "\n",
    "# Load the processed dataset\n",
    "df = pd.read_csv(\"C:/project/Telco_Churn_Predictor/notebooks/telco_customer_churn_processed.csv\")\n",
    "\n",
    "# Display the first few rows of the DataFrame\n",
    "print(df.head())\n",
    "\n",
    "# Display the DataFrame info\n",
    "print(df.info())\n"
   ]
  },
  {
   "cell_type": "markdown",
   "metadata": {},
   "source": [
    "This initial step ensures all necessary libraries are imported and that the dataset is loaded correctly. The info() method provides insights into the structure and types of features available for modeling.\n",
    "\n"
   ]
  },
  {
   "cell_type": "markdown",
   "metadata": {},
   "source": [
    "### Convert Categorical Variables to Numerical"
   ]
  },
  {
   "cell_type": "code",
   "execution_count": 3,
   "metadata": {},
   "outputs": [
    {
     "name": "stdout",
     "output_type": "stream",
     "text": [
      "<class 'pandas.core.frame.DataFrame'>\n",
      "RangeIndex: 7043 entries, 0 to 7042\n",
      "Data columns (total 34 columns):\n",
      " #   Column                                 Non-Null Count  Dtype  \n",
      "---  ------                                 --------------  -----  \n",
      " 0   SeniorCitizen                          7043 non-null   int64  \n",
      " 1   tenure                                 7043 non-null   float64\n",
      " 2   MonthlyCharges                         7043 non-null   float64\n",
      " 3   TotalCharges                           7043 non-null   float64\n",
      " 4   Charges_per_Month                      7043 non-null   float64\n",
      " 5   gender_Male                            7043 non-null   bool   \n",
      " 6   Partner_Yes                            7043 non-null   bool   \n",
      " 7   Dependents_Yes                         7043 non-null   bool   \n",
      " 8   PhoneService_Yes                       7043 non-null   bool   \n",
      " 9   MultipleLines_No phone service         7043 non-null   bool   \n",
      " 10  MultipleLines_Yes                      7043 non-null   bool   \n",
      " 11  InternetService_Fiber optic            7043 non-null   bool   \n",
      " 12  InternetService_No                     7043 non-null   bool   \n",
      " 13  OnlineSecurity_No internet service     7043 non-null   bool   \n",
      " 14  OnlineSecurity_Yes                     7043 non-null   bool   \n",
      " 15  OnlineBackup_No internet service       7043 non-null   bool   \n",
      " 16  OnlineBackup_Yes                       7043 non-null   bool   \n",
      " 17  DeviceProtection_No internet service   7043 non-null   bool   \n",
      " 18  DeviceProtection_Yes                   7043 non-null   bool   \n",
      " 19  TechSupport_No internet service        7043 non-null   bool   \n",
      " 20  TechSupport_Yes                        7043 non-null   bool   \n",
      " 21  StreamingTV_No internet service        7043 non-null   bool   \n",
      " 22  StreamingTV_Yes                        7043 non-null   bool   \n",
      " 23  StreamingMovies_No internet service    7043 non-null   bool   \n",
      " 24  StreamingMovies_Yes                    7043 non-null   bool   \n",
      " 25  Contract_One year                      7043 non-null   bool   \n",
      " 26  Contract_Two year                      7043 non-null   bool   \n",
      " 27  PaperlessBilling_Yes                   7043 non-null   bool   \n",
      " 28  PaymentMethod_Credit card (automatic)  7043 non-null   bool   \n",
      " 29  PaymentMethod_Electronic check         7043 non-null   bool   \n",
      " 30  PaymentMethod_Mailed check             7043 non-null   bool   \n",
      " 31  Churn_Yes                              7043 non-null   bool   \n",
      " 32  Tenure_Charges                         7043 non-null   float64\n",
      " 33  SeniorCitizen_MonthlyCharges           7043 non-null   float64\n",
      "dtypes: bool(27), float64(6), int64(1)\n",
      "memory usage: 571.0 KB\n",
      "None\n"
     ]
    }
   ],
   "source": [
    "# Convert 'Tenure_Category' to numerical using one-hot encoding\n",
    "df_encoded = pd.get_dummies(df, columns=['Tenure_Category'], drop_first=True)\n",
    "\n",
    "# Display the new DataFrame info\n",
    "print(df_encoded.info())\n"
   ]
  },
  {
   "cell_type": "markdown",
   "metadata": {},
   "source": [
    "Converting categorical variables into numerical format prepares the dataset for modeling. Ensure that all relevant variables are now numerical.\n",
    "\n"
   ]
  },
  {
   "cell_type": "markdown",
   "metadata": {},
   "source": [
    "### Define Features and Target Variable"
   ]
  },
  {
   "cell_type": "code",
   "execution_count": 4,
   "metadata": {},
   "outputs": [
    {
     "name": "stdout",
     "output_type": "stream",
     "text": [
      "Features shape: (7043, 33), Target shape: (7043,)\n"
     ]
    }
   ],
   "source": [
    "# Define features and target variable\n",
    "X = df_encoded.drop(columns=['Churn_Yes'])  # Exclude target column\n",
    "y = df_encoded['Churn_Yes']  # Target variable\n",
    "\n",
    "# Display shapes of features and target\n",
    "print(f\"Features shape: {X.shape}, Target shape: {y.shape}\")\n"
   ]
  },
  {
   "cell_type": "markdown",
   "metadata": {},
   "source": [
    "This step confirms that the features and target variable are separated correctly, with the expected shapes for training and testing.\n",
    "\n"
   ]
  },
  {
   "cell_type": "markdown",
   "metadata": {},
   "source": [
    "### Train-Test Split"
   ]
  },
  {
   "cell_type": "code",
   "execution_count": 5,
   "metadata": {},
   "outputs": [
    {
     "name": "stdout",
     "output_type": "stream",
     "text": [
      "X_train shape: (5634, 33), y_train shape: (5634,)\n",
      "X_test shape: (1409, 33), y_test shape: (1409,)\n"
     ]
    }
   ],
   "source": [
    "# Split the data into training and testing sets\n",
    "X_train, X_test, y_train, y_test = train_test_split(X, y, test_size=0.2, random_state=42, stratify=y)\n",
    "\n",
    "# Display the shapes of the training and testing sets\n",
    "print(f\"X_train shape: {X_train.shape}, y_train shape: {y_train.shape}\")\n",
    "print(f\"X_test shape: {X_test.shape}, y_test shape: {y_test.shape}\")\n"
   ]
  },
  {
   "cell_type": "markdown",
   "metadata": {},
   "source": [
    "The dataset is split into training and testing sets, maintaining the same distribution of the target variable, which is critical for evaluating model performance accurately.\n",
    "\n"
   ]
  },
  {
   "cell_type": "markdown",
   "metadata": {},
   "source": [
    "### Initialize Models"
   ]
  },
  {
   "cell_type": "code",
   "execution_count": 6,
   "metadata": {},
   "outputs": [],
   "source": [
    "# Initialize models\n",
    "models = {\n",
    "    \"Logistic Regression\": LogisticRegression(max_iter=1000),\n",
    "    \"Random Forest\": RandomForestClassifier(),\n",
    "    \"Support Vector Machine\": SVC(),\n",
    "    \"Decision Tree\": DecisionTreeClassifier(),\n",
    "    \"K-Nearest Neighbors\": KNeighborsClassifier()\n",
    "}\n"
   ]
  },
  {
   "cell_type": "markdown",
   "metadata": {},
   "source": [
    "A set of models is initialized for systematic evaluation. This will allow for an organized approach to training and testing different algorithms.\n",
    "\n"
   ]
  },
  {
   "cell_type": "markdown",
   "metadata": {},
   "source": [
    "### Train and Evaluate Each Model Without Hyperparameter Tuning\n"
   ]
  },
  {
   "cell_type": "code",
   "execution_count": 7,
   "metadata": {},
   "outputs": [
    {
     "name": "stdout",
     "output_type": "stream",
     "text": [
      "Model: Logistic Regression\n",
      "Confusion Matrix:\n",
      " [[921 114]\n",
      " [166 208]]\n",
      "\n",
      "Classification Report:\n",
      "               precision    recall  f1-score   support\n",
      "\n",
      "       False       0.85      0.89      0.87      1035\n",
      "        True       0.65      0.56      0.60       374\n",
      "\n",
      "    accuracy                           0.80      1409\n",
      "   macro avg       0.75      0.72      0.73      1409\n",
      "weighted avg       0.79      0.80      0.80      1409\n",
      "\n",
      "Accuracy: 0.8013\n",
      "\n",
      "Model: Random Forest\n",
      "Confusion Matrix:\n",
      " [[929 106]\n",
      " [188 186]]\n",
      "\n",
      "Classification Report:\n",
      "               precision    recall  f1-score   support\n",
      "\n",
      "       False       0.83      0.90      0.86      1035\n",
      "        True       0.64      0.50      0.56       374\n",
      "\n",
      "    accuracy                           0.79      1409\n",
      "   macro avg       0.73      0.70      0.71      1409\n",
      "weighted avg       0.78      0.79      0.78      1409\n",
      "\n",
      "Accuracy: 0.7913\n",
      "\n",
      "Model: Support Vector Machine\n",
      "Confusion Matrix:\n",
      " [[940  95]\n",
      " [194 180]]\n",
      "\n",
      "Classification Report:\n",
      "               precision    recall  f1-score   support\n",
      "\n",
      "       False       0.83      0.91      0.87      1035\n",
      "        True       0.65      0.48      0.55       374\n",
      "\n",
      "    accuracy                           0.79      1409\n",
      "   macro avg       0.74      0.69      0.71      1409\n",
      "weighted avg       0.78      0.79      0.78      1409\n",
      "\n",
      "Accuracy: 0.7949\n",
      "\n",
      "Model: Decision Tree\n",
      "Confusion Matrix:\n",
      " [[841 194]\n",
      " [196 178]]\n",
      "\n",
      "Classification Report:\n",
      "               precision    recall  f1-score   support\n",
      "\n",
      "       False       0.81      0.81      0.81      1035\n",
      "        True       0.48      0.48      0.48       374\n",
      "\n",
      "    accuracy                           0.72      1409\n",
      "   macro avg       0.64      0.64      0.64      1409\n",
      "weighted avg       0.72      0.72      0.72      1409\n",
      "\n",
      "Accuracy: 0.7232\n",
      "\n",
      "Model: K-Nearest Neighbors\n",
      "Confusion Matrix:\n",
      " [[878 157]\n",
      " [168 206]]\n",
      "\n",
      "Classification Report:\n",
      "               precision    recall  f1-score   support\n",
      "\n",
      "       False       0.84      0.85      0.84      1035\n",
      "        True       0.57      0.55      0.56       374\n",
      "\n",
      "    accuracy                           0.77      1409\n",
      "   macro avg       0.70      0.70      0.70      1409\n",
      "weighted avg       0.77      0.77      0.77      1409\n",
      "\n",
      "Accuracy: 0.7693\n",
      "\n"
     ]
    }
   ],
   "source": [
    "# Initialize a dictionary to hold results\n",
    "results = {}\n",
    "\n",
    "for model_name, model in models.items():\n",
    "    # Train the model\n",
    "    model.fit(X_train, y_train)\n",
    "    \n",
    "    # Make predictions on the test set\n",
    "    y_pred = model.predict(X_test)\n",
    "    \n",
    "    # Evaluate the model\n",
    "    cm = confusion_matrix(y_test, y_pred)\n",
    "    report = classification_report(y_test, y_pred, output_dict=True)\n",
    "    \n",
    "    # Store the results\n",
    "    results[model_name] = {\n",
    "        'Confusion Matrix': cm,\n",
    "        'Classification Report': report,\n",
    "        'Accuracy': report['accuracy']\n",
    "    }\n",
    "\n",
    "    # Print the results\n",
    "    print(f\"Model: {model_name}\")\n",
    "    print(\"Confusion Matrix:\\n\", cm)\n",
    "    print(\"\\nClassification Report:\\n\", classification_report(y_test, y_pred))\n",
    "    print(f\"Accuracy: {report['accuracy']:.4f}\\n\")\n"
   ]
  },
  {
   "cell_type": "markdown",
   "metadata": {},
   "source": [
    "Each model is trained and evaluated, allowing us to see initial performance metrics. This provides a baseline to compare against after hyperparameter tuning.\n",
    "\n"
   ]
  },
  {
   "cell_type": "markdown",
   "metadata": {},
   "source": [
    "### Hyperparameter Tuning Using Grid Search"
   ]
  },
  {
   "cell_type": "code",
   "execution_count": 8,
   "metadata": {},
   "outputs": [
    {
     "name": "stdout",
     "output_type": "stream",
     "text": [
      "Best parameters for Logistic Regression: {'C': 100, 'solver': 'liblinear'}\n",
      "Best accuracy for Logistic Regression: 0.8047547600397793\n"
     ]
    }
   ],
   "source": [
    "# Define parameter grid for Logistic Regression\n",
    "lr_param_grid = {\n",
    "    'C': [0.01, 0.1, 1, 10, 100],\n",
    "    'solver': ['liblinear', 'saga']\n",
    "}\n",
    "\n",
    "# Initialize Grid Search for Logistic Regression\n",
    "lr_grid = GridSearchCV(LogisticRegression(max_iter=1000), lr_param_grid, cv=5, scoring='accuracy', n_jobs=-1)\n",
    "lr_grid.fit(X_train, y_train)\n",
    "\n",
    "# Best parameters and score\n",
    "print(\"Best parameters for Logistic Regression:\", lr_grid.best_params_)\n",
    "print(\"Best accuracy for Logistic Regression:\", lr_grid.best_score_)\n"
   ]
  },
  {
   "cell_type": "markdown",
   "metadata": {},
   "source": [
    "Grid Search identifies the optimal parameters for Logistic Regression, enhancing its performance beyond the baseline"
   ]
  },
  {
   "cell_type": "markdown",
   "metadata": {},
   "source": [
    "### Random Forest Hyperparameter Tuning"
   ]
  },
  {
   "cell_type": "code",
   "execution_count": 9,
   "metadata": {},
   "outputs": [
    {
     "name": "stdout",
     "output_type": "stream",
     "text": [
      "Best parameters for Random Forest: {'max_depth': 10, 'min_samples_split': 5, 'n_estimators': 50}\n",
      "Best accuracy for Random Forest: 0.803334746517342\n"
     ]
    }
   ],
   "source": [
    "# Define parameter grid for Random Forest\n",
    "rf_param_grid = {\n",
    "    'n_estimators': [50, 100, 200],\n",
    "    'max_depth': [None, 10, 20, 30],\n",
    "    'min_samples_split': [2, 5, 10]\n",
    "}\n",
    "\n",
    "# Initialize Grid Search for Random Forest\n",
    "rf_grid = GridSearchCV(RandomForestClassifier(), rf_param_grid, cv=5, scoring='accuracy', n_jobs=-1)\n",
    "rf_grid.fit(X_train, y_train)\n",
    "\n",
    "# Best parameters and score\n",
    "print(\"Best parameters for Random Forest:\", rf_grid.best_params_)\n",
    "print(\"Best accuracy for Random Forest:\", rf_grid.best_score_)\n"
   ]
  },
  {
   "cell_type": "markdown",
   "metadata": {},
   "source": [
    "This step optimizes Random Forest parameters, improving its accuracy further, providing a more tailored model for the data.\n",
    "\n"
   ]
  },
  {
   "cell_type": "markdown",
   "metadata": {},
   "source": [
    "### Support Vector Machine Hyperparameter Tuning"
   ]
  },
  {
   "cell_type": "code",
   "execution_count": 10,
   "metadata": {},
   "outputs": [
    {
     "name": "stdout",
     "output_type": "stream",
     "text": [
      "Best parameters for Support Vector Machine: {'C': 1, 'kernel': 'rbf'}\n",
      "Best accuracy for Support Vector Machine: 0.8054665004468078\n"
     ]
    }
   ],
   "source": [
    "# Define parameter grid for Support Vector Machine\n",
    "svm_param_grid = {\n",
    "    'C': [0.01, 0.1, 1, 10],\n",
    "    'kernel': ['linear', 'rbf']\n",
    "}\n",
    "\n",
    "# Initialize Grid Search for SVM\n",
    "svm_grid = GridSearchCV(SVC(), svm_param_grid, cv=5, scoring='accuracy', n_jobs=-1)\n",
    "svm_grid.fit(X_train, y_train)\n",
    "\n",
    "# Best parameters and score\n",
    "print(\"Best parameters for Support Vector Machine:\", svm_grid.best_params_)\n",
    "print(\"Best accuracy for Support Vector Machine:\", svm_grid.best_score_)\n"
   ]
  },
  {
   "cell_type": "markdown",
   "metadata": {},
   "source": [
    "Hyperparameter tuning for SVM allows for greater flexibility and performance enhancement. The model's parameters are fine-tuned to suit the dataset better.\n",
    "\n"
   ]
  },
  {
   "cell_type": "markdown",
   "metadata": {},
   "source": [
    "### Decision Tree Hyperparameter Tuning\n"
   ]
  },
  {
   "cell_type": "code",
   "execution_count": 11,
   "metadata": {},
   "outputs": [
    {
     "name": "stdout",
     "output_type": "stream",
     "text": [
      "Best parameters for Decision Tree: {'max_depth': 5, 'min_samples_split': 2}\n",
      "Best accuracy for Decision Tree: 0.7841648791727673\n"
     ]
    }
   ],
   "source": [
    "# Define parameter grid for Decision Tree\n",
    "dt_param_grid = {\n",
    "    'max_depth': [None, 5, 10, 20],\n",
    "    'min_samples_split': [2, 5, 10]\n",
    "}\n",
    "\n",
    "# Initialize Grid Search for Decision Tree\n",
    "dt_grid = GridSearchCV(DecisionTreeClassifier(), dt_param_grid, cv=5, scoring='accuracy', n_jobs=-1)\n",
    "dt_grid.fit(X_train, y_train)\n",
    "\n",
    "# Best parameters and score\n",
    "print(\"Best parameters for Decision Tree:\", dt_grid.best_params_)\n",
    "print(\"Best accuracy for Decision Tree:\", dt_grid.best_score_)\n"
   ]
  },
  {
   "cell_type": "markdown",
   "metadata": {},
   "source": [
    "Decision Tree hyperparameters are optimized to prevent overfitting while ensuring that the model retains its ability to learn from the data effectively.\n",
    "\n"
   ]
  },
  {
   "cell_type": "markdown",
   "metadata": {},
   "source": [
    "### K-Nearest Neighbors Hyperparameter Tuning\n"
   ]
  },
  {
   "cell_type": "code",
   "execution_count": 12,
   "metadata": {},
   "outputs": [
    {
     "name": "stdout",
     "output_type": "stream",
     "text": [
      "Best parameters for K-Nearest Neighbors: {'n_neighbors': 7, 'weights': 'uniform'}\n",
      "Best accuracy for K-Nearest Neighbors: 0.7818575542040123\n"
     ]
    }
   ],
   "source": [
    "# Define parameter grid for K-Nearest Neighbors\n",
    "knn_param_grid = {\n",
    "    'n_neighbors': [3, 5, 7, 9],\n",
    "    'weights': ['uniform', 'distance']\n",
    "}\n",
    "\n",
    "# Initialize Grid Search for KNN\n",
    "knn_grid = GridSearchCV(KNeighborsClassifier(), knn_param_grid, cv=5, scoring='accuracy', n_jobs=-1)\n",
    "knn_grid.fit(X_train, y_train)\n",
    "\n",
    "# Best parameters and score\n",
    "print(\"Best parameters for K-Nearest Neighbors:\", knn_grid.best_params_)\n",
    "print(\"Best accuracy for K-Nearest Neighbors:\", knn_grid.best_score_)\n"
   ]
  },
  {
   "cell_type": "markdown",
   "metadata": {},
   "source": [
    "KNN's hyperparameter tuning allows for optimization of the number of neighbors, significantly impacting model performance"
   ]
  },
  {
   "cell_type": "markdown",
   "metadata": {},
   "source": [
    "### Compare Best Model Performances"
   ]
  },
  {
   "cell_type": "code",
   "execution_count": 13,
   "metadata": {},
   "outputs": [
    {
     "name": "stdout",
     "output_type": "stream",
     "text": [
      "                    Model  Accuracy\n",
      "0     Logistic Regression  0.799148\n",
      "1           Random Forest  0.799858\n",
      "2  Support Vector Machine  0.794890\n",
      "3           Decision Tree  0.787793\n",
      "4     K-Nearest Neighbors  0.777147\n"
     ]
    }
   ],
   "source": [
    "# Collect best models and their accuracies\n",
    "best_models = {\n",
    "    \"Logistic Regression\": lr_grid.best_estimator_,\n",
    "    \"Random Forest\": rf_grid.best_estimator_,\n",
    "    \"Support Vector Machine\": svm_grid.best_estimator_,\n",
    "    \"Decision Tree\": dt_grid.best_estimator_,\n",
    "    \"K-Nearest Neighbors\": knn_grid.best_estimator_\n",
    "}\n",
    "\n",
    "# Initialize a dictionary to hold final results\n",
    "final_results = {}\n",
    "\n",
    "for model_name, model in best_models.items():\n",
    "    # Make predictions on the test set\n",
    "    y_pred = model.predict(X_test)\n",
    "    \n",
    "    # Evaluate the model\n",
    "    report = classification_report(y_test, y_pred, output_dict=True)\n",
    "    \n",
    "    # Store the results\n",
    "    final_results[model_name] = {\n",
    "        'Accuracy': report['accuracy'],\n",
    "        'Confusion Matrix': confusion_matrix(y_test, y_pred),\n",
    "        'Classification Report': report\n",
    "    }\n",
    "\n",
    "# Display model accuracy comparison\n",
    "accuracy_df = pd.DataFrame({\n",
    "    'Model': final_results.keys(),\n",
    "    'Accuracy': [result['Accuracy'] for result in final_results.values()]\n",
    "})\n",
    "\n",
    "print(accuracy_df)\n"
   ]
  },
  {
   "cell_type": "markdown",
   "metadata": {},
   "source": [
    "The final comparison of model performances allows us to identify which algorithm performed the best after hyperparameter tuning. This aids in selecting the most suitable model for deployment.\n",
    "\n"
   ]
  },
  {
   "cell_type": "markdown",
   "metadata": {},
   "source": [
    "### Save the Best Model"
   ]
  },
  {
   "cell_type": "code",
   "execution_count": 14,
   "metadata": {},
   "outputs": [
    {
     "name": "stdout",
     "output_type": "stream",
     "text": [
      "Best model saved successfully.\n"
     ]
    }
   ],
   "source": [
    "# Save the best performing model (for example, Random Forest)\n",
    "best_model = rf_grid.best_estimator_\n",
    "joblib.dump(best_model, 'best_random_forest_model.pkl')\n",
    "print(\"Best model saved successfully.\")\n"
   ]
  },
  {
   "cell_type": "markdown",
   "metadata": {},
   "source": [
    " The best-performing model is saved for future use, ensuring that it can be deployed or used for predictions without needing to retrain.\n",
    "\n"
   ]
  },
  {
   "cell_type": "markdown",
   "metadata": {},
   "source": []
  }
 ],
 "metadata": {
  "kernelspec": {
   "display_name": "telco",
   "language": "python",
   "name": "python3"
  },
  "language_info": {
   "codemirror_mode": {
    "name": "ipython",
    "version": 3
   },
   "file_extension": ".py",
   "mimetype": "text/x-python",
   "name": "python",
   "nbconvert_exporter": "python",
   "pygments_lexer": "ipython3",
   "version": "3.12.4"
  }
 },
 "nbformat": 4,
 "nbformat_minor": 2
}
