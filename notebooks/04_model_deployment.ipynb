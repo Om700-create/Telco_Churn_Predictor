{
 "cells": [
  {
   "cell_type": "markdown",
   "metadata": {},
   "source": [
    "###  Import Required Libraries"
   ]
  },
  {
   "cell_type": "code",
   "execution_count": 1,
   "metadata": {},
   "outputs": [],
   "source": [
    "# Import necessary libraries\n",
    "import numpy as np\n",
    "import pandas as pd\n",
    "from flask import Flask, request, jsonify\n",
    "import joblib  # or pickle if used for model saving\n",
    "\n",
    "# Load the trained model\n",
    "model = joblib.load(\"C:/project/Telco_Churn_Predictor/notebooks/best_random_forest_model.pkl\")  \n",
    "\n"
   ]
  },
  {
   "cell_type": "markdown",
   "metadata": {},
   "source": [
    "### Set Up the Flask App"
   ]
  },
  {
   "cell_type": "code",
   "execution_count": 2,
   "metadata": {},
   "outputs": [],
   "source": [
    "from flask import Flask, request, jsonify\n",
    "import pandas as pd\n",
    "\n",
    "# Initialize Flask app\n",
    "app = Flask(__name__)\n",
    "\n",
    "# Define helper function to preprocess the input data\n",
    "def preprocess_input(data):\n",
    "    df = pd.DataFrame(data)\n",
    "    return df\n",
    "\n",
    "# Define the route for prediction\n",
    "@app.route('/predict', methods=['POST'])\n",
    "def predict():\n",
    "    try:\n",
    "        # Get JSON data from request\n",
    "        input_data = request.get_json(force=True)\n",
    "        \n",
    "        # Preprocess input data\n",
    "        preprocessed_data = preprocess_input(input_data)\n",
    "        \n",
    "        # Make predictions\n",
    "        predictions = model.predict(preprocessed_data)\n",
    "        \n",
    "        # Return predictions as JSON response\n",
    "        output = predictions.tolist()\n",
    "        return jsonify({'prediction': output})\n",
    "    except Exception as e:\n",
    "        return jsonify({'error': str(e)})\n",
    "\n",
    "# Since Jupyter doesn't handle Flask's default behavior well,\n",
    "# We won't run app.run() inside the notebook here.\n"
   ]
  },
  {
   "cell_type": "code",
   "execution_count": null,
   "metadata": {},
   "outputs": [],
   "source": []
  }
 ],
 "metadata": {
  "kernelspec": {
   "display_name": "telco",
   "language": "python",
   "name": "python3"
  },
  "language_info": {
   "codemirror_mode": {
    "name": "ipython",
    "version": 3
   },
   "file_extension": ".py",
   "mimetype": "text/x-python",
   "name": "python",
   "nbconvert_exporter": "python",
   "pygments_lexer": "ipython3",
   "version": "3.12.4"
  }
 },
 "nbformat": 4,
 "nbformat_minor": 2
}
